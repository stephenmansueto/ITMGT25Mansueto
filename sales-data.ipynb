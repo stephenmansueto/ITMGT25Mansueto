{
 "cells": [
  {
   "cell_type": "code",
   "execution_count": 102,
   "id": "8f9c4c1f-7d6f-49d7-a124-7b5eeee5a836",
   "metadata": {},
   "outputs": [
    {
     "data": {
      "text/html": [
       "<div>\n",
       "<style scoped>\n",
       "    .dataframe tbody tr th:only-of-type {\n",
       "        vertical-align: middle;\n",
       "    }\n",
       "\n",
       "    .dataframe tbody tr th {\n",
       "        vertical-align: top;\n",
       "    }\n",
       "\n",
       "    .dataframe thead th {\n",
       "        text-align: right;\n",
       "    }\n",
       "</style>\n",
       "<table border=\"1\" class=\"dataframe\">\n",
       "  <thead>\n",
       "    <tr style=\"text-align: right;\">\n",
       "      <th></th>\n",
       "      <th>age</th>\n",
       "      <th>first_name</th>\n",
       "      <th>gender</th>\n",
       "      <th>id</th>\n",
       "      <th>last_name</th>\n",
       "    </tr>\n",
       "  </thead>\n",
       "  <tbody>\n",
       "    <tr>\n",
       "      <th>0</th>\n",
       "      <td>48.0</td>\n",
       "      <td>Nicholas</td>\n",
       "      <td>M</td>\n",
       "      <td>0</td>\n",
       "      <td>Flores</td>\n",
       "    </tr>\n",
       "    <tr>\n",
       "      <th>1</th>\n",
       "      <td>NaN</td>\n",
       "      <td>Jeffery</td>\n",
       "      <td>M</td>\n",
       "      <td>1</td>\n",
       "      <td>Rowe</td>\n",
       "    </tr>\n",
       "    <tr>\n",
       "      <th>2</th>\n",
       "      <td>57.0</td>\n",
       "      <td>Alexis</td>\n",
       "      <td>F</td>\n",
       "      <td>2</td>\n",
       "      <td>Benton</td>\n",
       "    </tr>\n",
       "    <tr>\n",
       "      <th>3</th>\n",
       "      <td>73.0</td>\n",
       "      <td>Amy</td>\n",
       "      <td>F</td>\n",
       "      <td>3</td>\n",
       "      <td>Johnson</td>\n",
       "    </tr>\n",
       "    <tr>\n",
       "      <th>4</th>\n",
       "      <td>20.0</td>\n",
       "      <td>David</td>\n",
       "      <td>M</td>\n",
       "      <td>4</td>\n",
       "      <td>Moore</td>\n",
       "    </tr>\n",
       "    <tr>\n",
       "      <th>...</th>\n",
       "      <td>...</td>\n",
       "      <td>...</td>\n",
       "      <td>...</td>\n",
       "      <td>...</td>\n",
       "      <td>...</td>\n",
       "    </tr>\n",
       "    <tr>\n",
       "      <th>5186</th>\n",
       "      <td>NaN</td>\n",
       "      <td>Arthur</td>\n",
       "      <td>M</td>\n",
       "      <td>9428</td>\n",
       "      <td>Harris</td>\n",
       "    </tr>\n",
       "    <tr>\n",
       "      <th>5187</th>\n",
       "      <td>NaN</td>\n",
       "      <td>David</td>\n",
       "      <td>M</td>\n",
       "      <td>9494</td>\n",
       "      <td>Roy</td>\n",
       "    </tr>\n",
       "    <tr>\n",
       "      <th>5188</th>\n",
       "      <td>85.0</td>\n",
       "      <td>Thomas</td>\n",
       "      <td>M</td>\n",
       "      <td>10350</td>\n",
       "      <td>Turner</td>\n",
       "    </tr>\n",
       "    <tr>\n",
       "      <th>5189</th>\n",
       "      <td>NaN</td>\n",
       "      <td>April</td>\n",
       "      <td>F</td>\n",
       "      <td>10587</td>\n",
       "      <td>Sanchez</td>\n",
       "    </tr>\n",
       "    <tr>\n",
       "      <th>5190</th>\n",
       "      <td>NaN</td>\n",
       "      <td>Andrew</td>\n",
       "      <td>M</td>\n",
       "      <td>10934</td>\n",
       "      <td>Compton</td>\n",
       "    </tr>\n",
       "  </tbody>\n",
       "</table>\n",
       "<p>5191 rows × 5 columns</p>\n",
       "</div>"
      ],
      "text/plain": [
       "       age first_name gender     id last_name\n",
       "0     48.0   Nicholas      M      0    Flores\n",
       "1      NaN    Jeffery      M      1      Rowe\n",
       "2     57.0     Alexis      F      2    Benton\n",
       "3     73.0        Amy      F      3   Johnson\n",
       "4     20.0      David      M      4     Moore\n",
       "...    ...        ...    ...    ...       ...\n",
       "5186   NaN     Arthur      M   9428    Harris\n",
       "5187   NaN      David      M   9494       Roy\n",
       "5188  85.0     Thomas      M  10350    Turner\n",
       "5189   NaN      April      F  10587   Sanchez\n",
       "5190   NaN     Andrew      M  10934   Compton\n",
       "\n",
       "[5191 rows x 5 columns]"
      ]
     },
     "execution_count": 102,
     "metadata": {},
     "output_type": "execute_result"
    }
   ],
   "source": [
    "import pandas as pd\n",
    "\n",
    "invoice = pd.read_csv('fct_invoice.csv')\n",
    "customers = pd.read_json('dim_customer.json')\n",
    "\n",
    "customers\n"
   ]
  },
  {
   "cell_type": "code",
   "execution_count": 101,
   "id": "b094b6f2-4323-4b1e-89f6-79108294dd7b",
   "metadata": {},
   "outputs": [
    {
     "data": {
      "text/html": [
       "<div>\n",
       "<style scoped>\n",
       "    .dataframe tbody tr th:only-of-type {\n",
       "        vertical-align: middle;\n",
       "    }\n",
       "\n",
       "    .dataframe tbody tr th {\n",
       "        vertical-align: top;\n",
       "    }\n",
       "\n",
       "    .dataframe thead th {\n",
       "        text-align: right;\n",
       "    }\n",
       "</style>\n",
       "<table border=\"1\" class=\"dataframe\">\n",
       "  <thead>\n",
       "    <tr style=\"text-align: right;\">\n",
       "      <th></th>\n",
       "      <th>invoice_no</th>\n",
       "      <th>customer_id</th>\n",
       "      <th>category</th>\n",
       "      <th>quantity</th>\n",
       "      <th>price</th>\n",
       "      <th>payment_method</th>\n",
       "      <th>invoice_date</th>\n",
       "      <th>shopping_mall</th>\n",
       "    </tr>\n",
       "  </thead>\n",
       "  <tbody>\n",
       "    <tr>\n",
       "      <th>0</th>\n",
       "      <td>I138884</td>\n",
       "      <td>229</td>\n",
       "      <td>Clothing</td>\n",
       "      <td>5</td>\n",
       "      <td>1500.40</td>\n",
       "      <td>Credit Card</td>\n",
       "      <td>5/8/2022</td>\n",
       "      <td>Kanyon</td>\n",
       "    </tr>\n",
       "    <tr>\n",
       "      <th>1</th>\n",
       "      <td>I317333</td>\n",
       "      <td>3433</td>\n",
       "      <td>Shoes</td>\n",
       "      <td>3</td>\n",
       "      <td>1800.51</td>\n",
       "      <td>Debit Card</td>\n",
       "      <td>12/12/2021</td>\n",
       "      <td>Forum Istanbul</td>\n",
       "    </tr>\n",
       "    <tr>\n",
       "      <th>2</th>\n",
       "      <td>I127801</td>\n",
       "      <td>644</td>\n",
       "      <td>Clothing</td>\n",
       "      <td>1</td>\n",
       "      <td>300.08</td>\n",
       "      <td>Cash</td>\n",
       "      <td>9/11/2021</td>\n",
       "      <td>Metrocity</td>\n",
       "    </tr>\n",
       "    <tr>\n",
       "      <th>3</th>\n",
       "      <td>I173702</td>\n",
       "      <td>4900</td>\n",
       "      <td>Shoes</td>\n",
       "      <td>5</td>\n",
       "      <td>3000.85</td>\n",
       "      <td>Credit Card</td>\n",
       "      <td>16/05/2021</td>\n",
       "      <td>Metropol AVM</td>\n",
       "    </tr>\n",
       "    <tr>\n",
       "      <th>4</th>\n",
       "      <td>I337046</td>\n",
       "      <td>1089</td>\n",
       "      <td>Books</td>\n",
       "      <td>4</td>\n",
       "      <td>60.60</td>\n",
       "      <td>Cash</td>\n",
       "      <td>24/10/2021</td>\n",
       "      <td>Kanyon</td>\n",
       "    </tr>\n",
       "    <tr>\n",
       "      <th>...</th>\n",
       "      <td>...</td>\n",
       "      <td>...</td>\n",
       "      <td>...</td>\n",
       "      <td>...</td>\n",
       "      <td>...</td>\n",
       "      <td>...</td>\n",
       "      <td>...</td>\n",
       "      <td>...</td>\n",
       "    </tr>\n",
       "    <tr>\n",
       "      <th>99452</th>\n",
       "      <td>I219422</td>\n",
       "      <td>2344</td>\n",
       "      <td>Souvenir</td>\n",
       "      <td>5</td>\n",
       "      <td>58.65</td>\n",
       "      <td>Credit Card</td>\n",
       "      <td>21/09/2022</td>\n",
       "      <td>Kanyon</td>\n",
       "    </tr>\n",
       "    <tr>\n",
       "      <th>99453</th>\n",
       "      <td>I325143</td>\n",
       "      <td>172</td>\n",
       "      <td>Food &amp; Beverage</td>\n",
       "      <td>2</td>\n",
       "      <td>10.46</td>\n",
       "      <td>Cash</td>\n",
       "      <td>22/09/2021</td>\n",
       "      <td>Forum Istanbul</td>\n",
       "    </tr>\n",
       "    <tr>\n",
       "      <th>99454</th>\n",
       "      <td>I824010</td>\n",
       "      <td>425</td>\n",
       "      <td>Food &amp; Beverage</td>\n",
       "      <td>2</td>\n",
       "      <td>10.46</td>\n",
       "      <td>Debit Card</td>\n",
       "      <td>28/03/2021</td>\n",
       "      <td>Metrocity</td>\n",
       "    </tr>\n",
       "    <tr>\n",
       "      <th>99455</th>\n",
       "      <td>I702964</td>\n",
       "      <td>577</td>\n",
       "      <td>Technology</td>\n",
       "      <td>4</td>\n",
       "      <td>4200.00</td>\n",
       "      <td>Cash</td>\n",
       "      <td>16/03/2021</td>\n",
       "      <td>Istinye Park</td>\n",
       "    </tr>\n",
       "    <tr>\n",
       "      <th>99456</th>\n",
       "      <td>I232867</td>\n",
       "      <td>30</td>\n",
       "      <td>Souvenir</td>\n",
       "      <td>3</td>\n",
       "      <td>35.19</td>\n",
       "      <td>Credit Card</td>\n",
       "      <td>15/10/2022</td>\n",
       "      <td>Mall of Istanbul</td>\n",
       "    </tr>\n",
       "  </tbody>\n",
       "</table>\n",
       "<p>99457 rows × 8 columns</p>\n",
       "</div>"
      ],
      "text/plain": [
       "      invoice_no  customer_id         category  quantity    price  \\\n",
       "0        I138884          229         Clothing         5  1500.40   \n",
       "1        I317333         3433            Shoes         3  1800.51   \n",
       "2        I127801          644         Clothing         1   300.08   \n",
       "3        I173702         4900            Shoes         5  3000.85   \n",
       "4        I337046         1089            Books         4    60.60   \n",
       "...          ...          ...              ...       ...      ...   \n",
       "99452    I219422         2344         Souvenir         5    58.65   \n",
       "99453    I325143          172  Food & Beverage         2    10.46   \n",
       "99454    I824010          425  Food & Beverage         2    10.46   \n",
       "99455    I702964          577       Technology         4  4200.00   \n",
       "99456    I232867           30         Souvenir         3    35.19   \n",
       "\n",
       "      payment_method invoice_date     shopping_mall  \n",
       "0        Credit Card     5/8/2022            Kanyon  \n",
       "1         Debit Card   12/12/2021    Forum Istanbul  \n",
       "2               Cash    9/11/2021         Metrocity  \n",
       "3        Credit Card   16/05/2021      Metropol AVM  \n",
       "4               Cash   24/10/2021            Kanyon  \n",
       "...              ...          ...               ...  \n",
       "99452    Credit Card   21/09/2022            Kanyon  \n",
       "99453           Cash   22/09/2021    Forum Istanbul  \n",
       "99454     Debit Card   28/03/2021         Metrocity  \n",
       "99455           Cash   16/03/2021      Istinye Park  \n",
       "99456    Credit Card   15/10/2022  Mall of Istanbul  \n",
       "\n",
       "[99457 rows x 8 columns]"
      ]
     },
     "execution_count": 101,
     "metadata": {},
     "output_type": "execute_result"
    }
   ],
   "source": [
    "invoice"
   ]
  },
  {
   "cell_type": "markdown",
   "id": "e3855157-2f13-4205-b51d-d8b43582c460",
   "metadata": {},
   "source": [
    "<h1> EASY QUESTIONS </h1>\n"
   ]
  },
  {
   "cell_type": "markdown",
   "id": "ff10eebe-48f6-4c7e-b19d-593d9da42b07",
   "metadata": {},
   "source": [
    "<b> 1) How many unique customers are in the dataset? </b>"
   ]
  },
  {
   "cell_type": "code",
   "execution_count": 63,
   "id": "20dc4e6e-efeb-41db-ae27-fd084c80abf6",
   "metadata": {},
   "outputs": [
    {
     "data": {
      "text/plain": [
       "5191"
      ]
     },
     "execution_count": 63,
     "metadata": {},
     "output_type": "execute_result"
    }
   ],
   "source": [
    "names = invoice['customer_id']\n",
    "\n",
    "names.nunique()"
   ]
  },
  {
   "cell_type": "markdown",
   "id": "a1c92735-9876-4ae1-a297-2b67ee5ba1e4",
   "metadata": {},
   "source": [
    "<b> 2. What are the different categories of products available? How many unique categories are there? </b>"
   ]
  },
  {
   "cell_type": "code",
   "execution_count": 28,
   "id": "def9916a-cb20-4c9e-a18e-a08d7cd3da90",
   "metadata": {},
   "outputs": [
    {
     "data": {
      "text/plain": [
       "8"
      ]
     },
     "execution_count": 28,
     "metadata": {},
     "output_type": "execute_result"
    }
   ],
   "source": [
    "#number of unique categories\n",
    "categories = invoice['category'].nunique()\n",
    "\n",
    "categories"
   ]
  },
  {
   "cell_type": "code",
   "execution_count": 44,
   "id": "ecd18aaa-43a8-4556-bc7d-08a96b4de06e",
   "metadata": {},
   "outputs": [
    {
     "data": {
      "text/plain": [
       "0           Clothing\n",
       "1              Shoes\n",
       "2              Books\n",
       "3          Cosmetics\n",
       "4    Food & Beverage\n",
       "5               Toys\n",
       "6         Technology\n",
       "7           Souvenir\n",
       "dtype: object"
      ]
     },
     "execution_count": 44,
     "metadata": {},
     "output_type": "execute_result"
    }
   ],
   "source": [
    "#unique categories\n",
    "categories = pd.Series(invoice['category'].unique())\n",
    "\n",
    "categories"
   ]
  },
  {
   "cell_type": "markdown",
   "id": "0ddb20fb-e2b1-40d7-a6e7-df92f24c4a87",
   "metadata": {},
   "source": [
    "<b> 3. Which payment method is the most popular? How many times was it used? </b>"
   ]
  },
  {
   "cell_type": "code",
   "execution_count": 70,
   "id": "636d11f4-b3c9-4708-bd2c-da972845f635",
   "metadata": {},
   "outputs": [
    {
     "data": {
      "text/plain": [
       "'Cash'"
      ]
     },
     "execution_count": 70,
     "metadata": {},
     "output_type": "execute_result"
    }
   ],
   "source": [
    "#most popular payment method\n",
    "\n",
    "method = invoice['payment_method'].value_counts()\n",
    "\n",
    "method.idxmax()"
   ]
  },
  {
   "cell_type": "code",
   "execution_count": 71,
   "id": "2108418a-d1e6-4fce-a92b-076bf22d85e1",
   "metadata": {},
   "outputs": [
    {
     "data": {
      "text/plain": [
       "44447"
      ]
     },
     "execution_count": 71,
     "metadata": {},
     "output_type": "execute_result"
    }
   ],
   "source": [
    "#number of times cash was used\n",
    "\n",
    "method.max()"
   ]
  },
  {
   "cell_type": "markdown",
   "id": "ec35641f-1bb3-4a8a-92ae-14808a1db74e",
   "metadata": {},
   "source": [
    "<h1> MEDIUM QUESTIONS </h1>"
   ]
  },
  {
   "cell_type": "markdown",
   "id": "6300fcab-a049-4952-9a9e-aba6884c2f82",
   "metadata": {},
   "source": [
    "<b> 1. What are the three most popular categories, by total sales? </b>"
   ]
  },
  {
   "cell_type": "code",
   "execution_count": 95,
   "id": "8a345468-6600-4592-ada2-a2cf48774532",
   "metadata": {},
   "outputs": [
    {
     "data": {
      "text/plain": [
       "0      Clothing\n",
       "1         Shoes\n",
       "2    Technology\n",
       "dtype: object"
      ]
     },
     "execution_count": 95,
     "metadata": {},
     "output_type": "execute_result"
    }
   ],
   "source": [
    "#isolates 'category' and 'price' column\n",
    "method = invoice[['category', 'price']]\n",
    "\n",
    "#sums up all of the sales per category\n",
    "sums = method.groupby('category').sum()['price']\n",
    "\n",
    "#Gets the three largest values, removes the 'price' column, and keeps the index.\n",
    "rank = pd.Series(sums.nlargest(n=3).index.tolist())\n",
    "\n",
    "rank"
   ]
  },
  {
   "cell_type": "markdown",
   "id": "df0d02c6-946a-4e64-9d88-c0d4bd0aca24",
   "metadata": {},
   "source": [
    "<b> 2. What are the total sales attributed to customers over the age of 45? </b>"
   ]
  },
  {
   "cell_type": "code",
   "execution_count": 129,
   "id": "2666b139-258e-464d-849f-5ca65f0d2cee",
   "metadata": {},
   "outputs": [
    {
     "data": {
      "text/plain": [
       "22370553.27"
      ]
     },
     "execution_count": 129,
     "metadata": {},
     "output_type": "execute_result"
    }
   ],
   "source": [
    "import pandas as pd\n",
    "\n",
    "#call the csv and json files\n",
    "invoice = pd.read_csv('fct_invoice.csv')\n",
    "customers = pd.read_json('dim_customer.json')\n",
    "\n",
    "#rename the files so that the columns will overlap\n",
    "invoice.rename(columns={'customer_id' : 'id'}, inplace = True)\n",
    "merged_data = pd.merge(invoice, customers, on='id')\n",
    "\n",
    "#filter the data\n",
    "aged = merged_data[merged_data['age'] > 45] \n",
    "\n",
    "#get the sum of the data (could've used int but i didn't want to remove the centavos)\n",
    "sales_aged = aged['price'].sum()\n",
    "\n",
    "sales_aged"
   ]
  },
  {
   "cell_type": "markdown",
   "id": "51f2267a-af45-4a78-9022-16f778839de8",
   "metadata": {},
   "source": [
    "<b> 3. How is the data distributed across different invoice dates? Are there any seasonal trends or patterns? (Use a graph for this.) </b>"
   ]
  },
  {
   "cell_type": "code",
   "execution_count": 137,
   "id": "4566e9cd-7087-4552-bb77-9f9ea0faa57c",
   "metadata": {},
   "outputs": [
    {
     "data": {
      "image/png": "[encoded data removed]",
      "text/plain": [
       "<Figure size 640x480 with 1 Axes>"
      ]
     },
     "metadata": {},
     "output_type": "display_data"
    }
   ],
   "source": [
    "import matplotlib.pyplot as plt\n",
    "\n",
    "merged_data.plot(x = 'invoice_date', y='age')\n",
    "\n",
    "plt.xlabel('invoice date')\n",
    "plt.ylabel('age')\n",
    "plt.title('Invoice Date and Age')\n",
    "\n",
    "plt.show()"
   ]
  },
  {
   "cell_type": "markdown",
   "id": "63a1af49-0de8-44c0-918b-5c82e06712a4",
   "metadata": {},
   "source": [
    "### On Age and Invoice Date\n",
    "\n",
    "insight: during 2021, people of varying ages purchased products. By 2022, young and old consumers decreased. As of the latest data, most consumers are in the 40-60 age range.\n",
    "\n",
    "possible conclusion:\n",
    "\n",
    "Whether intentionally or not, the company has been catering less to young and old consumers, and started to sell more to the age 40-60 bracket."
   ]
  },
  {
   "cell_type": "markdown",
   "id": "b72b06c1-9e1f-4189-aa65-83492b9135ad",
   "metadata": {},
   "source": [
    "<h1> HARD QUESTION </h1>"
   ]
  },
  {
   "cell_type": "markdown",
   "id": "e64146b6-3cd9-4481-9142-2225666711b9",
   "metadata": {},
   "source": [
    "<b>1. Create a pivot table showing the breakdown of sales across these dimensions, in this order: category, decade age range (e.g., 10-19, 20-29, and so forth). </b>"
   ]
  },
  {
   "cell_type": "code",
   "execution_count": 241,
   "id": "1d8611cf-6cf4-46f1-bd6b-e92ba2e8aea3",
   "metadata": {},
   "outputs": [
    {
     "data": {
      "text/plain": [
       "category  age  \n",
       "Books     10-19      3469.35\n",
       "          20-29     21619.05\n",
       "          30-39     22997.70\n",
       "          40-49     23361.30\n",
       "          50-59     20664.60\n",
       "                     ...    \n",
       "Toys      40-49    106910.72\n",
       "          50-59     94115.84\n",
       "          60-69    100244.48\n",
       "          70-79     74475.52\n",
       "          80-89     43043.84\n",
       "Name: price, Length: 64, dtype: float64"
      ]
     },
     "execution_count": 245,
     "metadata": {},
     "output_type": "execute_result"
    }
   ],
   "source": [
    "merged_data['age'].max() #this is 85,\n",
    "merged_data['age'].min() #this is 18\n",
    "# both of these imply that I need 8 ranges in 10s (from 10 to 89)\n",
    "\n",
    "breakdown = merged_data.groupby(['category', 'age'])['price'].sum()\n",
    "age_ranges = [10, 20, 30, 40, 50, 60, 70, 80, 90]\n",
    "age_labels = ['10-19', '20-29', '30-39', '40-49', '50-59', '60-69', '70-79', '80-89', '90+']\n",
    "\n",
    "\n",
    "# merged_data['age'] = pd.cut(merged_data['age'], bins=age_ranges, labels=age_labels[:-1], right=False)\n",
    "# this function pd.cut was used to change the labels found in the 'age' column.\n",
    "\n",
    "breakdown"
   ]
  }
 ],
 "metadata": {
  "kernelspec": {
   "display_name": "Python 3 (ipykernel)",
   "language": "python",
   "name": "python3"
  },
  "language_info": {
   "codemirror_mode": {
    "name": "ipython",
    "version": 3
   },
   "file_extension": ".py",
   "mimetype": "text/x-python",
   "name": "python",
   "nbconvert_exporter": "python",
   "pygments_lexer": "ipython3",
   "version": "3.10.9"
  }
 },
 "nbformat": 4,
 "nbformat_minor": 5
}
